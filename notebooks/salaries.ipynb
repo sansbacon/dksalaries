{
 "cells": [
  {
   "cell_type": "code",
   "execution_count": 14,
   "metadata": {
    "application/vnd.databricks.v1+cell": {
     "inputWidgets": {},
     "nuid": "59d410a8-ae3c-4da1-89fd-65d802f85ab5",
     "showTitle": false,
     "title": ""
    }
   },
   "outputs": [],
   "source": [
    "import numpy as np\n",
    "import pandas as pd"
   ]
  },
  {
   "cell_type": "code",
   "execution_count": 15,
   "metadata": {
    "application/vnd.databricks.v1+cell": {
     "inputWidgets": {},
     "nuid": "9b0f3c4d-255c-4c0b-b4d3-79defe66f4a9",
     "showTitle": false,
     "title": ""
    }
   },
   "outputs": [],
   "source": [
    "url = 'https://github.com/nflverse/nflfastR-data/raw/master/data/player_stats.parquet'\n",
    "df = pd.read_parquet(url)"
   ]
  },
  {
   "cell_type": "code",
   "execution_count": 16,
   "metadata": {
    "application/vnd.databricks.v1+cell": {
     "inputWidgets": {},
     "nuid": "88965727-7ad1-4381-b438-6e044c837d40",
     "showTitle": false,
     "title": ""
    }
   },
   "outputs": [],
   "source": [
    "# downcast to float32\n",
    "cols = df.select_dtypes(include=[np.float64]).columns\n",
    "df.loc[:, cols] = df.loc[:, cols].astype(np.float32)"
   ]
  },
  {
   "cell_type": "code",
   "execution_count": 17,
   "metadata": {
    "application/vnd.databricks.v1+cell": {
     "inputWidgets": {},
     "nuid": "91c86f05-4f97-4cc3-9e92-97a4a16e131c",
     "showTitle": false,
     "title": ""
    }
   },
   "outputs": [],
   "source": [
    "# add half-ppr scoring\n",
    "df = df.assign(fantasy_points_hppr=(df.fantasy_points + df.fantasy_points_ppr) / 2)"
   ]
  },
  {
   "cell_type": "code",
   "execution_count": 18,
   "metadata": {
    "application/vnd.databricks.v1+cell": {
     "inputWidgets": {},
     "nuid": "1f0fe87d-2e16-4987-ada7-083c0e76300f",
     "showTitle": false,
     "title": ""
    }
   },
   "outputs": [],
   "source": [
    "# add player positions\n",
    "pdf = pd.read_csv('https://github.com/nflverse/nflfastR-roster/raw/master/data/nflfastR-roster.csv.gz', compression='gzip', low_memory=False)"
   ]
  },
  {
   "cell_type": "code",
   "execution_count": 19,
   "metadata": {
    "application/vnd.databricks.v1+cell": {
     "inputWidgets": {},
     "nuid": "1cd05bee-9df1-410f-a76e-7d8e944ffa17",
     "showTitle": false,
     "title": ""
    }
   },
   "outputs": [],
   "source": [
    "df = df.join(pdf.set_index(['gsis_id', 'season']).loc[:, ['full_name', 'position']], how='left', on=['player_id', 'season'])"
   ]
  },
  {
   "cell_type": "code",
   "execution_count": 20,
   "metadata": {
    "application/vnd.databricks.v1+cell": {
     "inputWidgets": {},
     "nuid": "24b7c465-ded7-431c-ac12-7f7957a4c631",
     "showTitle": false,
     "title": ""
    }
   },
   "outputs": [],
   "source": [
    "# filter columns\n",
    "wanted = ['season', 'week', 'player_id', 'full_name', 'position', 'fantasy_points', 'fantasy_points_ppr', 'fantasy_points_hppr']\n",
    "df2 = df.loc[df.season == 2020, wanted]"
   ]
  },
  {
   "cell_type": "code",
   "execution_count": 21,
   "metadata": {
    "application/vnd.databricks.v1+cell": {
     "inputWidgets": {},
     "nuid": "00d76cee-bc17-4744-8f9a-4608c2e553cc",
     "showTitle": false,
     "title": ""
    }
   },
   "outputs": [],
   "source": [
    "# calculate season stats\n",
    "# seas.loc[seas.position == 'QB', :].sort_values('posrk')\n",
    "seas = (\n",
    "  df2\n",
    "  .groupby(['player_id', 'full_name', 'position'], as_index=False)\n",
    "  .agg(fptot=('fantasy_points', 'sum'),\n",
    "      fptot_ppr=('fantasy_points_ppr', 'sum'),\n",
    "      fptot_hppr=('fantasy_points_hppr', 'sum'),\n",
    "      fppg=('fantasy_points', 'mean'),\n",
    "      fppg_ppr=('fantasy_points_ppr', 'mean'), \n",
    "      fppg_hppr=('fantasy_points_hppr', 'mean')\n",
    "      )\n",
    "  .assign(posrk=lambda x: x.groupby('position')['fptot_hppr'].rank(method='first', ascending=False))\n",
    ")"
   ]
  },
  {
   "cell_type": "code",
   "execution_count": 22,
   "metadata": {
    "application/vnd.databricks.v1+cell": {
     "inputWidgets": {},
     "nuid": "5e268527-3295-443b-b2a3-9e24b11b9545",
     "showTitle": false,
     "title": ""
    }
   },
   "outputs": [],
   "source": [
    "# get the top 20 QBs\n",
    "qbids = seas.loc[(seas.position == 'QB') & (seas.posrk <= 20), 'player_id']\n",
    "qbs = df2.loc[df2.player_id.isin(qbids), :]"
   ]
  },
  {
   "cell_type": "code",
   "execution_count": 23,
   "metadata": {
    "application/vnd.databricks.v1+cell": {
     "inputWidgets": {},
     "nuid": "e5ce3d3f-33dd-4301-8611-ac69613cb3f2",
     "showTitle": false,
     "title": ""
    }
   },
   "outputs": [],
   "source": [
    "# we want to be able to simulate a bye\n",
    "# also need to do it over 16 games based on 15 games from previous year\n",
    "# so we want to get even-length arrays based on scores from week 1-6\n",
    "# then we are going to fill with mean value\n",
    "# then we will test inserting a 0 both at the beginning or one at beginning or one at end\n",
    "# then we take the greater value of the two\n",
    "qbs = (\n",
    "  pd.DataFrame({'season': 2020, 'week': range(1, 17)})\n",
    "  .merge(qbs.loc[qbs.week < 17, ['player_id']].drop_duplicates(), how='cross')\n",
    "  .join(qbs.set_index(['season', 'week', 'player_id']), how='left', on=['season', 'week', 'player_id'])\n",
    "  .assign(full_name=lambda x: x.groupby('player_id')['full_name'].bfill().ffill(),\n",
    "          position=lambda x: x.groupby('player_id')['position'].bfill().ffill(),\n",
    "          fantasy_points=lambda x: x.groupby('player_id')['fantasy_points'].transform(lambda y: y.fillna(y.mean())),\n",
    "          fantasy_points_ppr=lambda x: x.groupby('player_id')['fantasy_points_ppr'].transform(lambda y: y.fillna(y.mean())),\n",
    "          fantasy_points_hppr=lambda x: x.groupby('player_id')['fantasy_points_hppr'].transform(lambda y: y.fillna(y.mean()))\n",
    "         )\n",
    ")"
   ]
  },
  {
   "cell_type": "code",
   "execution_count": 24,
   "metadata": {
    "application/vnd.databricks.v1+cell": {
     "inputWidgets": {},
     "nuid": "bcedd72a-bcd5-4ea2-9ddb-da3c4d9eb345",
     "showTitle": false,
     "title": ""
    }
   },
   "outputs": [],
   "source": [
    "# try out vectorized approach\n",
    "vals = []\n",
    "iterations = 100\n",
    "weeks = 16\n",
    "rng = np.random.default_rng()\n",
    "shuffled_indices = rng.integers(0, weeks, size=(iterations, weeks)).argsort(axis=1)\n",
    "\n",
    "for i in range(1000): #(100):\n",
    "    choices = qbids.sample(2).values\n",
    "    p1 = np.column_stack((np.zeros(iterations), qbs.loc[lambda x: x.player_id == choices[0], 'fantasy_points_hppr'].values[shuffled_indices]))\n",
    "    p2 = np.column_stack((np.zeros(iterations), qbs.loc[lambda x: x.player_id == choices[1], 'fantasy_points_hppr'].values[shuffled_indices]))\n",
    "    score = np.array([p1, p2]).max(axis=0)\n",
    "\n",
    "    p1d = np.column_stack((np.zeros(iterations), qbs.loc[lambda x: x.player_id == choices[0], 'fantasy_points_hppr'].values[shuffled_indices]))\n",
    "    p2d= np.column_stack((qbs.loc[lambda x: x.player_id == choices[1], 'fantasy_points_hppr'].values[shuffled_indices], np.zeros(iterations)))\n",
    "    scored = np.array([p1d, p2d]).max(axis=0)\n",
    "    \n",
    "    vals.append({'same': score.sum(axis=1).mean(), 'diff': scored.sum(axis=1).mean()})"
   ]
  },
  {
   "cell_type": "code",
   "execution_count": 25,
   "metadata": {
    "application/vnd.databricks.v1+cell": {
     "inputWidgets": {},
     "nuid": "731663ff-c075-4069-a8b0-056085fcae83",
     "showTitle": false,
     "title": ""
    }
   },
   "outputs": [
    {
     "data": {
      "text/html": [
       "<div>\n",
       "<style scoped>\n",
       "    .dataframe tbody tr th:only-of-type {\n",
       "        vertical-align: middle;\n",
       "    }\n",
       "\n",
       "    .dataframe tbody tr th {\n",
       "        vertical-align: top;\n",
       "    }\n",
       "\n",
       "    .dataframe thead th {\n",
       "        text-align: right;\n",
       "    }\n",
       "</style>\n",
       "<table border=\"1\" class=\"dataframe\">\n",
       "  <thead>\n",
       "    <tr style=\"text-align: right;\">\n",
       "      <th></th>\n",
       "      <th>same</th>\n",
       "      <th>diff</th>\n",
       "      <th>delta</th>\n",
       "    </tr>\n",
       "  </thead>\n",
       "  <tbody>\n",
       "    <tr>\n",
       "      <th>count</th>\n",
       "      <td>1000.000000</td>\n",
       "      <td>1000.000000</td>\n",
       "      <td>1000.000000</td>\n",
       "    </tr>\n",
       "    <tr>\n",
       "      <th>mean</th>\n",
       "      <td>389.681822</td>\n",
       "      <td>404.751389</td>\n",
       "      <td>15.069567</td>\n",
       "    </tr>\n",
       "    <tr>\n",
       "      <th>std</th>\n",
       "      <td>43.261319</td>\n",
       "      <td>44.314858</td>\n",
       "      <td>9.448264</td>\n",
       "    </tr>\n",
       "    <tr>\n",
       "      <th>min</th>\n",
       "      <td>296.982668</td>\n",
       "      <td>314.531255</td>\n",
       "      <td>-8.938615</td>\n",
       "    </tr>\n",
       "    <tr>\n",
       "      <th>25%</th>\n",
       "      <td>358.273333</td>\n",
       "      <td>376.251625</td>\n",
       "      <td>8.284986</td>\n",
       "    </tr>\n",
       "    <tr>\n",
       "      <th>50%</th>\n",
       "      <td>395.575997</td>\n",
       "      <td>409.417826</td>\n",
       "      <td>15.513984</td>\n",
       "    </tr>\n",
       "    <tr>\n",
       "      <th>75%</th>\n",
       "      <td>422.083998</td>\n",
       "      <td>437.455267</td>\n",
       "      <td>21.458839</td>\n",
       "    </tr>\n",
       "    <tr>\n",
       "      <th>max</th>\n",
       "      <td>469.326668</td>\n",
       "      <td>495.456181</td>\n",
       "      <td>44.826347</td>\n",
       "    </tr>\n",
       "  </tbody>\n",
       "</table>\n",
       "</div>"
      ],
      "text/plain": [
       "              same         diff        delta\n",
       "count  1000.000000  1000.000000  1000.000000\n",
       "mean    389.681822   404.751389    15.069567\n",
       "std      43.261319    44.314858     9.448264\n",
       "min     296.982668   314.531255    -8.938615\n",
       "25%     358.273333   376.251625     8.284986\n",
       "50%     395.575997   409.417826    15.513984\n",
       "75%     422.083998   437.455267    21.458839\n",
       "max     469.326668   495.456181    44.826347"
      ]
     },
     "execution_count": 25,
     "metadata": {},
     "output_type": "execute_result"
    }
   ],
   "source": [
    "pd.DataFrame(vals).assign(delta=lambda x: x['diff'] - x.same).describe()"
   ]
  },
  {
   "cell_type": "code",
   "execution_count": 26,
   "metadata": {
    "application/vnd.databricks.v1+cell": {
     "inputWidgets": {},
     "nuid": "07c8dbc4-807f-4bfe-8b21-a47dfed32f8b",
     "showTitle": false,
     "title": ""
    }
   },
   "outputs": [],
   "source": [
    "# 3 QBs, 2 with same bye\n",
    "vals = []\n",
    "iterations = 100\n",
    "weeks = 16\n",
    "rng = np.random.default_rng()\n",
    "shuffled_indices = rng.integers(0, weeks, size=(iterations, weeks)).argsort(axis=1)\n",
    "\n",
    "for i in range(1000): #(100):\n",
    "    # all same bye\n",
    "    choices = qbids.sample(3).values\n",
    "    p1 = np.column_stack((np.zeros(iterations), qbs.loc[lambda x: x.player_id == choices[0], 'fantasy_points_hppr'].values[shuffled_indices]))\n",
    "    p2 = np.column_stack((np.zeros(iterations), qbs.loc[lambda x: x.player_id == choices[1], 'fantasy_points_hppr'].values[shuffled_indices]))\n",
    "    p3 = np.column_stack((np.zeros(iterations), qbs.loc[lambda x: x.player_id == choices[2], 'fantasy_points_hppr'].values[shuffled_indices]))\n",
    "    score = np.array([p1, p2, p3]).max(axis=0)\n",
    "\n",
    "    # two share same bye\n",
    "    p1d = np.column_stack((np.zeros(iterations), qbs.loc[lambda x: x.player_id == choices[0], 'fantasy_points_hppr'].values[shuffled_indices]))\n",
    "    p2d= np.column_stack((qbs.loc[lambda x: x.player_id == choices[1], 'fantasy_points_hppr'].values[shuffled_indices], np.zeros(iterations)))\n",
    "    p3d = np.column_stack((np.zeros(iterations), qbs.loc[lambda x: x.player_id == choices[2], 'fantasy_points_hppr'].values[shuffled_indices]))\n",
    "    scored = np.array([p1d, p2d, p3d]).max(axis=0)\n",
    "    \n",
    "    # no shared byes\n",
    "    p1a = np.column_stack((np.zeros(iterations), qbs.loc[lambda x: x.player_id == choices[0], 'fantasy_points_hppr'].values[shuffled_indices]))\n",
    "    p2a= np.column_stack((qbs.loc[lambda x: x.player_id == choices[1], 'fantasy_points_hppr'].values[shuffled_indices], np.zeros(iterations)))\n",
    "    tmp = qbs.loc[lambda x: x.player_id == choices[2], 'fantasy_points_hppr'].values[shuffled_indices]\n",
    "    p3a = np.hstack((tmp[:, :2], np.zeros((iterations, 1)), tmp[:, 2:]))\n",
    "    scorea = np.array([p1a, p2a, p3a]).max(axis=0)\n",
    "    \n",
    "    vals.append({'same': score.sum(axis=1).mean(), '1diff': scored.sum(axis=1).mean(), 'adiff': scorea.sum(axis=1).mean()})\n"
   ]
  },
  {
   "cell_type": "code",
   "execution_count": 27,
   "metadata": {
    "application/vnd.databricks.v1+cell": {
     "inputWidgets": {},
     "nuid": "5d6aa6ac-7d44-4c07-bda1-17fbe144a3b7",
     "showTitle": false,
     "title": ""
    }
   },
   "outputs": [
    {
     "data": {
      "text/html": [
       "<div>\n",
       "<style scoped>\n",
       "    .dataframe tbody tr th:only-of-type {\n",
       "        vertical-align: middle;\n",
       "    }\n",
       "\n",
       "    .dataframe tbody tr th {\n",
       "        vertical-align: top;\n",
       "    }\n",
       "\n",
       "    .dataframe thead th {\n",
       "        text-align: right;\n",
       "    }\n",
       "</style>\n",
       "<table border=\"1\" class=\"dataframe\">\n",
       "  <thead>\n",
       "    <tr style=\"text-align: right;\">\n",
       "      <th></th>\n",
       "      <th>same</th>\n",
       "      <th>1diff</th>\n",
       "      <th>adiff</th>\n",
       "    </tr>\n",
       "  </thead>\n",
       "  <tbody>\n",
       "    <tr>\n",
       "      <th>count</th>\n",
       "      <td>1000.000000</td>\n",
       "      <td>1000.000000</td>\n",
       "      <td>1000.000000</td>\n",
       "    </tr>\n",
       "    <tr>\n",
       "      <th>mean</th>\n",
       "      <td>427.217784</td>\n",
       "      <td>444.848492</td>\n",
       "      <td>446.837528</td>\n",
       "    </tr>\n",
       "    <tr>\n",
       "      <th>std</th>\n",
       "      <td>35.772252</td>\n",
       "      <td>37.955070</td>\n",
       "      <td>37.892826</td>\n",
       "    </tr>\n",
       "    <tr>\n",
       "      <th>min</th>\n",
       "      <td>331.218670</td>\n",
       "      <td>345.700834</td>\n",
       "      <td>347.064720</td>\n",
       "    </tr>\n",
       "    <tr>\n",
       "      <th>25%</th>\n",
       "      <td>404.252667</td>\n",
       "      <td>419.839324</td>\n",
       "      <td>422.277345</td>\n",
       "    </tr>\n",
       "    <tr>\n",
       "      <th>50%</th>\n",
       "      <td>429.377331</td>\n",
       "      <td>446.970086</td>\n",
       "      <td>449.637826</td>\n",
       "    </tr>\n",
       "    <tr>\n",
       "      <th>75%</th>\n",
       "      <td>456.021336</td>\n",
       "      <td>474.735408</td>\n",
       "      <td>477.058783</td>\n",
       "    </tr>\n",
       "    <tr>\n",
       "      <th>max</th>\n",
       "      <td>503.326664</td>\n",
       "      <td>524.200982</td>\n",
       "      <td>526.687089</td>\n",
       "    </tr>\n",
       "  </tbody>\n",
       "</table>\n",
       "</div>"
      ],
      "text/plain": [
       "              same        1diff        adiff\n",
       "count  1000.000000  1000.000000  1000.000000\n",
       "mean    427.217784   444.848492   446.837528\n",
       "std      35.772252    37.955070    37.892826\n",
       "min     331.218670   345.700834   347.064720\n",
       "25%     404.252667   419.839324   422.277345\n",
       "50%     429.377331   446.970086   449.637826\n",
       "75%     456.021336   474.735408   477.058783\n",
       "max     503.326664   524.200982   526.687089"
      ]
     },
     "execution_count": 27,
     "metadata": {},
     "output_type": "execute_result"
    }
   ],
   "source": [
    "pd.DataFrame(vals).describe()"
   ]
  },
  {
   "cell_type": "code",
   "execution_count": null,
   "metadata": {
    "application/vnd.databricks.v1+cell": {
     "inputWidgets": {},
     "nuid": "d2f6ec63-cbc3-4eb0-8084-8e391e700547",
     "showTitle": false,
     "title": ""
    }
   },
   "outputs": [],
   "source": [
    "# try to parameterize\n",
    "def byesim(df: pd.DataFrame, \n",
    "           n_players: int, \n",
    "           fpts_col: str,\n",
    "           weeks: int = 16, \n",
    "           combinations: int = 1000, \n",
    "           shuffles: int = 100) -> pd.DataFrame:\n",
    "    \"\"\"Simulates the effect of shared / staggered bye weeks\n",
    "    \n",
    "    Args:\n",
    "        df (DataFrame): the weekly rows for each eligible player\n",
    "        n_players (int): the number of players to analyze\n",
    "        fpts_col (str): the column with fantasy points\n",
    "        weeks (int): the number of weeks with scores, default 16, which is 16 week fantasy season + 1 bye week\n",
    "        combinations (int): the number of player combinations to test\n",
    "        shuffles (int): the number of random shuffles of weekly scores for each combination of players.\n",
    "\n",
    "    Returns:\n",
    "        DataFrame\n",
    "        \n",
    "    \"\"\"\n",
    "    if n_players < 2:\n",
    "        raise ValueError('Must have at least 2 players')\n",
    "    \n",
    "    vals = []\n",
    "\n",
    "    # get 2D array of shuffled indices\n",
    "    # shape is (shuffles, weeks), so default is (100, 16)\n",
    "    rng = np.random.default_rng()\n",
    "    shuffled_indices = rng.integers(0, weeks, size=(shuffles, weeks)).argsort(axis=1)\n",
    "\n",
    "    for i in range(combinations):\n",
    "        choices = rng.choice(df.player_id.unique, size=n_players, replace=False)\n",
    "        \n",
    "        for n_same_byes in range(n_players):\n",
    "            # create range of zeros\n",
    "            # each column represents different bye weeks\n",
    "            zeros = np.zeros(shape=(weeks, n_players))\n",
    "            if n_same_bye == 0:\n",
    "                # tmp = qbs.loc[lambda x: x.player_id == choices[2], 'fantasy_points_hppr'].values[shuffled_indices]\n",
    "                # p3a = np.hstack((tmp[:, :2], np.zeros((iterations, 1)), tmp[:, 2:]))\n",
    "                \n",
    "                diff_bye = [np.column_stack((np.zeros(iterations), df.loc[lambda x: x.player_id == choices[n_same_bye - 1], fpts_col].values[shuffled_indices] \n",
    "                            for _ in range(n_same_byes)]        \n",
    "\n",
    "\n",
    "            else:\n",
    "                same_bye = [np.column_stack((np.zeros(iterations), df.loc[lambda x: x.player_id == choices[n_same_bye - 1], fpts_col].values[shuffled_indices] \n",
    "                            for _ in range(n_same_byes)]        \n",
    "\n",
    "        # STOPPED HERE\n",
    "                                             \n",
    "        # all same bye\n",
    "        p1 = ))\n",
    "        p2 = np.column_stack((np.zeros(iterations), qbs.loc[lambda x: x.player_id == choices[1], 'fantasy_points_hppr'].values[shuffled_indices]))\n",
    "        p3 = np.column_stack((np.zeros(iterations), qbs.loc[lambda x: x.player_id == choices[2], 'fantasy_points_hppr'].values[shuffled_indices]))\n",
    "        score = np.array([p1, p2, p3]).max(axis=0)\n",
    "\n",
    "        # two share same bye\n",
    "        p1d = np.column_stack((np.zeros(iterations), qbs.loc[lambda x: x.player_id == choices[0], 'fantasy_points_hppr'].values[shuffled_indices]))\n",
    "        p2d= np.column_stack((qbs.loc[lambda x: x.player_id == choices[1], 'fantasy_points_hppr'].values[shuffled_indices], np.zeros(iterations)))\n",
    "        p3d = np.column_stack((np.zeros(iterations), qbs.loc[lambda x: x.player_id == choices[2], 'fantasy_points_hppr'].values[shuffled_indices]))\n",
    "        scored = np.array([p1d, p2d, p3d]).max(axis=0)\n",
    "\n",
    "        # no shared byes\n",
    "        p1a = np.column_stack((np.zeros(iterations), qbs.loc[lambda x: x.player_id == choices[0], 'fantasy_points_hppr'].values[shuffled_indices]))\n",
    "        p2a= np.column_stack((qbs.loc[lambda x: x.player_id == choices[1], 'fantasy_points_hppr'].values[shuffled_indices], np.zeros(iterations)))\n",
    "        tmp = qbs.loc[lambda x: x.player_id == choices[2], 'fantasy_points_hppr'].values[shuffled_indices]\n",
    "        p3a = np.hstack((tmp[:, :2], np.zeros((iterations, 1)), tmp[:, 2:]))\n",
    "        scorea = np.array([p1a, p2a, p3a]).max(axis=0)\n",
    "\n",
    "        vals.append({'same': score.sum(axis=1).mean(), '1diff': scored.sum(axis=1).mean(), 'adiff': scorea.sum(axis=1).mean()})\n"
   ]
  },
  {
   "cell_type": "markdown",
   "metadata": {},
   "source": [
    "# Simulate 4QBs"
   ]
  },
  {
   "cell_type": "code",
   "execution_count": null,
   "metadata": {},
   "outputs": [],
   "source": [
    "# get some trash QBs\n",
    "trash_qbids = seas.loc[(seas.position == 'QB') & (seas.posrk > 10) & (seas.posrk <= 35), 'player_id'].unique()\n",
    "tqbs = qbs.loc[lambda x: x.player_id.isin(trash_qbids), :]"
   ]
  },
  {
   "cell_type": "code",
   "execution_count": null,
   "metadata": {},
   "outputs": [],
   "source": [
    "# try out vectorized approach\n",
    "vals = []\n",
    "weeks = 16\n",
    "n_players = 4\n",
    "iterations = 500\n",
    "\n",
    "for i in range(10000):\n",
    "    players = np.array([tqbs.loc[lambda x: x.player_id == choice, 'fantasy_points_hppr'].values\n",
    "                        for choice in rng.choice(tqbs.player_id.unique(), size=n_players, replace=False)])\n",
    "    players = np.tile(players, iterations).reshape(iterations, players.shape[0], players.shape[1])\n",
    "    rng.shuffle(players)\n",
    "    vals.append(players.max(axis=1).sum(axis=1).mean())"
   ]
  },
  {
   "cell_type": "code",
   "execution_count": null,
   "metadata": {},
   "outputs": [],
   "source": [
    "pd.DataFrame(data=vals, columns=['scores']).describe()"
   ]
  },
  {
   "cell_type": "code",
   "execution_count": null,
   "metadata": {},
   "outputs": [],
   "source": [
    "# try out vectorized approach\n",
    "vals = []\n",
    "weeks = 16\n",
    "n_players = 3\n",
    "iterations = 500\n",
    "\n",
    "for i in range(10000):\n",
    "    players = np.array([tqbs.loc[lambda x: x.player_id == choice, 'fantasy_points_hppr'].values\n",
    "                        for choice in rng.choice(tqbs.player_id.unique(), size=n_players, replace=False)])\n",
    "    players = np.tile(players, iterations).reshape(iterations, players.shape[0], players.shape[1])\n",
    "    rng.shuffle(players)\n",
    "    vals.append(players.max(axis=1).sum(axis=1).mean())"
   ]
  },
  {
   "cell_type": "code",
   "execution_count": null,
   "metadata": {},
   "outputs": [],
   "source": [
    "pd.DataFrame(data=vals, columns=['scores']).describe()"
   ]
  },
  {
   "cell_type": "code",
   "execution_count": null,
   "metadata": {},
   "outputs": [],
   "source": [
    "# get some good QBs\n",
    "good_qbids = seas.loc[(seas.position == 'QB') & (seas.posrk <= 10), 'player_id'].unique()\n",
    "gqbs = qbs.loc[lambda x: x.player_id.isin(good_qbids), :]"
   ]
  },
  {
   "cell_type": "code",
   "execution_count": null,
   "metadata": {},
   "outputs": [],
   "source": [
    "# try out vectorized approach\n",
    "vals = []\n",
    "weeks = 16\n",
    "n_players = 2\n",
    "iterations = 500\n",
    "\n",
    "for i in range(10000):\n",
    "    players = np.array([gqbs.loc[lambda x: x.player_id == choice, 'fantasy_points_hppr'].values\n",
    "                        for choice in rng.choice(gqbs.player_id.unique(), size=n_players, replace=False)])\n",
    "    players = np.tile(players, iterations).reshape(iterations, players.shape[0], players.shape[1])\n",
    "    rng.shuffle(players)\n",
    "    vals.append(players.max(axis=1).sum(axis=1).mean())"
   ]
  },
  {
   "cell_type": "code",
   "execution_count": null,
   "metadata": {},
   "outputs": [],
   "source": [
    "pd.DataFrame(data=vals, columns=['scores']).describe()"
   ]
  },
  {
   "cell_type": "code",
   "execution_count": null,
   "metadata": {},
   "outputs": [],
   "source": []
  }
 ],
 "metadata": {
  "application/vnd.databricks.v1+notebook": {
   "dashboards": [],
   "language": "python",
   "notebookMetadata": {
    "pythonIndentUnit": 2
   },
   "notebookName": "byes",
   "notebookOrigID": 2268136226852527,
   "widgets": {}
  },
  "kernelspec": {
   "display_name": "Python 3",
   "language": "python",
   "name": "python3"
  },
  "language_info": {
   "codemirror_mode": {
    "name": "ipython",
    "version": 3
   },
   "file_extension": ".py",
   "mimetype": "text/x-python",
   "name": "python",
   "nbconvert_exporter": "python",
   "pygments_lexer": "ipython3",
   "version": "3.7.4"
  }
 },
 "nbformat": 4,
 "nbformat_minor": 1
}
